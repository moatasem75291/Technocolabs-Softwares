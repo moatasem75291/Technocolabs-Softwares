{
 "cells": [
  {
   "cell_type": "markdown",
   "id": "42984bfb-9699-42f1-962f-b5cb064b13ee",
   "metadata": {},
   "source": [
    "# 📚 Libraries & Data Structure"
   ]
  },
  {
   "cell_type": "code",
   "execution_count": null,
   "id": "10b7ad3a-883c-4688-9589-d1451049845d",
   "metadata": {},
   "outputs": [],
   "source": [
    "import numpy as np\n",
    "import pandas as pd\n",
    "import matplotlib.pyplot as plt\n",
    "import seaborn as sns\n",
    "import plotly.express as px\n",
    "import warnings\n",
    "warnings.simplefilter(\"ignore\")\n",
    "from sklearn.preprocessing import StandardScaler\n",
    "from sklearn.metrics import roc_curve, auc, confusion_matrix, mean_squared_error, accuracy_score, make_scorer, f1_score\n",
    "from sklearn.model_selection import learning_curve\n",
    "from sklearn.model_selection import train_test_split, GridSearchCV\n",
    "from sklearn.linear_model import LogisticRegression\n",
    "from sklearn.preprocessing import PolynomialFeatures\n",
    "from sklearn.metrics import classification_report\n",
    "import joblib\n",
    "from sklearn.svm import SVC\n",
    "from sklearn.decomposition import PCA\n",
    "from sklearn.discriminant_analysis import LinearDiscriminantAnalysis\n",
    "from imblearn.under_sampling import RandomUnderSampler\n",
    "import tensorflow as tf\n",
    "from tensorflow import keras\n",
    "from sklearn.utils.class_weight import compute_class_weight"
   ]
  },
  {
   "cell_type": "code",
   "execution_count": null,
   "id": "cf91114c-433e-4489-a4a4-5c5c08030a8c",
   "metadata": {},
   "outputs": [],
   "source": [
    "loan_export = pd.read_csv('LoanExport.csv', low_memory=False)"
   ]
  },
  {
   "cell_type": "code",
   "execution_count": null,
   "id": "aa237be2-2106-410c-bb52-eac1615a8c1a",
   "metadata": {},
   "outputs": [],
   "source": [
    "loan_export.columns"
   ]
  },
  {
   "cell_type": "code",
   "execution_count": null,
   "id": "8e8a7426-e862-4144-9b41-ed93ffb1f7fb",
   "metadata": {},
   "outputs": [],
   "source": [
    "loan_export.sample(7)"
   ]
  },
  {
   "cell_type": "code",
   "execution_count": null,
   "id": "c981357b-1afd-4560-bd86-6175c595458b",
   "metadata": {},
   "outputs": [],
   "source": [
    "loan_export.info()"
   ]
  },
  {
   "cell_type": "code",
   "execution_count": null,
   "id": "2e9d97b1-2a83-41ab-beb9-7785142fe5c1",
   "metadata": {},
   "outputs": [],
   "source": [
    "numerical_describtion, categorical_describtion = loan_export.describe(exclude=[object]), loan_export.describe(exclude=[np.number])"
   ]
  },
  {
   "cell_type": "code",
   "execution_count": null,
   "id": "88f71d7f-832e-4a48-b297-035c80f9dc77",
   "metadata": {},
   "outputs": [],
   "source": [
    "def my_describe(df):\n",
    "    border = \"#\" * 30\n",
    "    columns = df.columns\n",
    "    measures = df.index\n",
    "    for column in columns:\n",
    "        print(f\"{border} {column} {border}\")\n",
    "        for measure in measures:\n",
    "            print(f\"{measure} for {column} column is: {df.loc[measure, column]}\")\n"
   ]
  },
  {
   "cell_type": "code",
   "execution_count": null,
   "id": "6b72def3-9cfc-4f96-a83b-6e58ed2d1916",
   "metadata": {},
   "outputs": [],
   "source": [
    "my_describe(numerical_describtion)"
   ]
  },
  {
   "cell_type": "code",
   "execution_count": null,
   "id": "e93af82c-0a8a-4f8b-b268-a9e145a70fd7",
   "metadata": {},
   "outputs": [],
   "source": [
    "my_describe(categorical_describtion)"
   ]
  },
  {
   "cell_type": "code",
   "execution_count": null,
   "id": "13ac4b7d-4428-47cc-9c3a-2265acf32c75",
   "metadata": {},
   "outputs": [],
   "source": [
    "print(\"duplicated data: {}\\n\".format(loan_export.duplicated().sum()))"
   ]
  },
  {
   "cell_type": "code",
   "execution_count": null,
   "id": "f1e0cd1e-e26d-4926-9eb1-c1a43ee489a8",
   "metadata": {},
   "outputs": [],
   "source": [
    "print(\"missing data: \\n{}\".format(loan_export.isna().sum()))"
   ]
  },
  {
   "cell_type": "markdown",
   "id": "c646969c-52db-4e14-bff7-10c711d9ce14",
   "metadata": {},
   "source": [
    "# 🔍 EDA"
   ]
  },
  {
   "cell_type": "markdown",
   "id": "04e70e94-8474-4d7e-a4fd-9b1f4269643d",
   "metadata": {},
   "source": [
    "## 1. univariate"
   ]
  },
  {
   "cell_type": "markdown",
   "id": "d28df45a-2c0e-4124-9a89-338835ac9331",
   "metadata": {},
   "source": [
    "### 1. Categorical plots"
   ]
  },
  {
   "cell_type": "code",
   "execution_count": null,
   "id": "238d3c82-6c74-4369-b14d-08c7664dbd66",
   "metadata": {},
   "outputs": [],
   "source": [
    "categorical, numerical = loan_export[categorical_describtion.columns], loan_export[numerical_describtion.columns]"
   ]
  },
  {
   "cell_type": "code",
   "execution_count": null,
   "id": "4a7e0be4-b624-4ae3-8553-78a2c115526a",
   "metadata": {},
   "outputs": [],
   "source": [
    "def create_bar_plots(df, max_unique_values=21):\n",
    "    for column in df.columns:\n",
    "        unique_values = df[column].nunique()\n",
    "        if unique_values > max_unique_values:\n",
    "            print(f\"Skipping '{column}' column due to high unique values ({unique_values})\")\n",
    "            continue\n",
    "        title='Bar Plot for'\n",
    "        plt.figure(figsize=(8, 6))\n",
    "        ax = df[column].value_counts().plot(kind='bar', color='skyblue')\n",
    "        ax.set_title(f'{title} {column}')\n",
    "        ax.set_xlabel(column)\n",
    "        ax.set_ylabel(\"Count\")\n",
    "        plt.tight_layout()\n",
    "        plt.show()"
   ]
  },
  {
   "cell_type": "code",
   "execution_count": null,
   "id": "5a58a68a-79d1-4981-962b-4e423fd56df1",
   "metadata": {
    "tags": []
   },
   "outputs": [],
   "source": [
    "create_bar_plots(categorical)"
   ]
  },
  {
   "cell_type": "code",
   "execution_count": null,
   "id": "391c890a-5b10-4e9d-ac98-e4e05b592cf4",
   "metadata": {},
   "outputs": [],
   "source": [
    "def create_target_dist_bar_plots(data_frame, target_label='EverDelinquent', max_unique_values=21):\n",
    "    target_values = data_frame[target_label].unique()\n",
    "    categorical_columns = [col for col in data_frame.columns if data_frame[col].dtype == 'object' and col != target_label]\n",
    "    \n",
    "    for column in categorical_columns:\n",
    "        unique_values = data_frame[column].nunique()\n",
    "        if unique_values > max_unique_values:\n",
    "            print(f\"Skipping '{column}' column due to high unique values ({unique_values})\")\n",
    "            continue\n",
    "        \n",
    "        plt.figure(figsize=(8, 6))\n",
    "        ax = plt.gca()\n",
    "        for value in target_values:\n",
    "            subset = data_frame[data_frame[target_label] == value]\n",
    "            value_counts = subset[column].value_counts()\n",
    "            value_counts.sort_index(inplace=True)  # Sort by index to ensure consistent order\n",
    "            value_counts.plot(kind='bar', color='blue' if value == 0 else 'red', ax=ax)\n",
    "        \n",
    "        ax.set_title(f'Distribution of {column} by {target_label}')\n",
    "        ax.set_xlabel(column)\n",
    "        ax.set_ylabel('Count')\n",
    "        ax.legend(target_values, title=target_label)\n",
    "        plt.tight_layout()\n",
    "        plt.show()"
   ]
  },
  {
   "cell_type": "code",
   "execution_count": null,
   "id": "c5b44b6f-03ce-423b-ae2a-189d6864f728",
   "metadata": {
    "tags": []
   },
   "outputs": [],
   "source": [
    "create_target_dist_bar_plots(loan_export)"
   ]
  },
  {
   "cell_type": "markdown",
   "id": "7b99ebc5-3ee9-4a4a-bb74-74cfe9adf8b9",
   "metadata": {},
   "source": [
    "### 2. Numerical plots"
   ]
  },
  {
   "cell_type": "code",
   "execution_count": null,
   "id": "bada7764-6759-46b5-9c0b-d9adaf4c0ceb",
   "metadata": {},
   "outputs": [],
   "source": [
    "numerical_describtion.columns"
   ]
  },
  {
   "cell_type": "code",
   "execution_count": null,
   "id": "13e07be4-f99f-4cef-ab33-2fab050f9963",
   "metadata": {},
   "outputs": [],
   "source": [
    "def create_numerical_plots(data_frame):\n",
    "    numerical_columns = [col for col in data_frame.columns if pd.api.types.is_numeric_dtype(data_frame[col])]\n",
    "    \n",
    "    for column in numerical_columns:\n",
    "        plt.figure(figsize=(10, 6))\n",
    "        \n",
    "        plt.subplot(1, 3, 1)\n",
    "        sns.histplot(data_frame[column], bins=20, color='skyblue')\n",
    "        plt.title(f'Histogram of {column}')\n",
    "        \n",
    "        plt.subplot(1, 3, 2)\n",
    "        sns.boxplot(data_frame[column], palette='pastel')\n",
    "        plt.title(f'Box Plot of {column}')\n",
    "        \n",
    "        plt.subplot(1, 3, 3)\n",
    "        sns.scatterplot(data_frame[column])\n",
    "        plt.tight_layout()\n",
    "        plt.show()\n",
    "\n"
   ]
  },
  {
   "cell_type": "code",
   "execution_count": null,
   "id": "01a41e67-1840-47c0-a864-1e8e1a550e7e",
   "metadata": {
    "tags": []
   },
   "outputs": [],
   "source": [
    "create_numerical_plots(loan_export)"
   ]
  },
  {
   "cell_type": "code",
   "execution_count": null,
   "id": "a4177fd9-5415-4fb4-8ddf-370b4b11cb37",
   "metadata": {},
   "outputs": [],
   "source": [
    "def plot_correlation(data_frame):\n",
    "    corr_matrix = data_frame.corr()\n",
    "    \n",
    "    plt.figure(figsize=(10, 8))\n",
    "    sns.heatmap(corr_matrix, annot=True, cmap='coolwarm', center=0, fmt=\".2f\")\n",
    "    plt.title(\"Correlation Matrix\")\n",
    "    plt.show()"
   ]
  },
  {
   "cell_type": "code",
   "execution_count": null,
   "id": "a66508e5-7fb1-444b-a601-655ac294edfe",
   "metadata": {
    "tags": []
   },
   "outputs": [],
   "source": [
    "plot_correlation(numerical)"
   ]
  },
  {
   "cell_type": "code",
   "execution_count": null,
   "id": "d2554881-f6a5-4a0e-8f50-668eeba2931b",
   "metadata": {},
   "outputs": [],
   "source": [
    "def create_numerical_plots_vs_target(data_frame, target_label='EverDelinquent'):\n",
    "    numerical_columns = [col for col in data_frame.columns if pd.api.types.is_numeric_dtype(data_frame[col])]\n",
    "    \n",
    "    for column in numerical_columns:\n",
    "        plt.figure(figsize=(18, 6))\n",
    "        \n",
    "        plt.subplot(1, 3, 1)\n",
    "        sns.histplot(data_frame[column], bins=20, color='skyblue')\n",
    "        plt.title(f'Histogram of {column}')\n",
    "        \n",
    "        plt.subplot(1, 3, 2)\n",
    "        sns.boxplot(x=data_frame[target_label], y=data_frame[column], palette='pastel')\n",
    "        plt.title(f'Box Plot of {column} by {target_label}')\n",
    "        \n",
    "        plt.subplot(1, 3, 3)\n",
    "        sns.scatterplot(data=data_frame, x=column, y=target_label, hue=target_label, palette='coolwarm')\n",
    "        plt.title(f'Scatter Plot of {column} vs. {target_label}')\n",
    "        \n",
    "        plt.tight_layout()\n",
    "        plt.show()"
   ]
  },
  {
   "cell_type": "code",
   "execution_count": null,
   "id": "3261528c-83e2-4876-859c-6399069cf77d",
   "metadata": {
    "tags": []
   },
   "outputs": [],
   "source": [
    "create_numerical_plots_vs_target(loan_export)"
   ]
  },
  {
   "cell_type": "markdown",
   "id": "20d67c88-c59f-4691-9b31-dc29708ade09",
   "metadata": {
    "tags": []
   },
   "source": [
    "# 🧑‍💻 Preprocessing"
   ]
  },
  {
   "cell_type": "markdown",
   "id": "21355c36-8bb3-4276-919d-8c4e7d8307f1",
   "metadata": {},
   "source": [
    "### 1. Drop Irrelivvant Columns"
   ]
  },
  {
   "cell_type": "markdown",
   "id": "8806e297-6f3b-42f9-bf99-be8883182f9e",
   "metadata": {},
   "source": [
    "* Drop irrelevant columns:\n",
    "    - The dataset used contains information that is unavailable at the time of loan application. We will drop these columns before starting with our analysis. The columns we will drop are: `FirstPaymentDate` `MaturityDate` `MIP` `OrigUPB` `OrigInterestRate` `PPM` \n",
    "    - The column that i decide to drop it:\n",
    "        - `LTV:` the correlation between it and OCLTV so must drop one of them\n",
    "        - `SellerName:` there is 24994 NAN values from 291451\n",
    "        - `OrigLoanTerm` there are positive and negative correlations between it and another two column\n",
    "        - `PropertyState`as this information is encoded in the MSA column.\n",
    "        - `LoanSeqNum` unique id assigned to each loan. As it provides no information we will drop this column.\n",
    "        - `ServicerName` dependent loan activity and since this information is not available at the time of loan request we will drop these columns.\n",
    "        - `ProductType` this column has the same value for all rows, it provides no useful information to us."
   ]
  },
  {
   "cell_type": "code",
   "execution_count": null,
   "id": "8adde0b1-2a09-4341-b5a3-0cb5d612354b",
   "metadata": {},
   "outputs": [],
   "source": [
    "loan_export_copy = loan_export.copy()"
   ]
  },
  {
   "cell_type": "code",
   "execution_count": null,
   "id": "b9804108-a1c1-4ea5-ba4a-3c09fcc0dc54",
   "metadata": {},
   "outputs": [],
   "source": [
    "def drop_columns(df):\n",
    "    coulmns = [\n",
    "        'LTV', 'SellerName', 'OrigLoanTerm', 'FirstPaymentDate',\n",
    "        'MaturityDate', 'MIP', 'OrigUPB', 'OrigInterestRate',\n",
    "        'PPM','PropertyState', 'LoanSeqNum', 'ServicerName',\n",
    "        'ProductType',\n",
    "    ]\n",
    "    df.drop(coulmns, axis=1, inplace=True)\n",
    "    \n",
    "    return df"
   ]
  },
  {
   "cell_type": "code",
   "execution_count": null,
   "id": "49b5969d-83f1-46dc-9d08-43a769dd2bad",
   "metadata": {},
   "outputs": [],
   "source": [
    "loan_export_copy = drop_columns(loan_export_copy)"
   ]
  },
  {
   "cell_type": "markdown",
   "id": "b6a5259b-aa15-4a2e-bcba-ea4cda542325",
   "metadata": {},
   "source": [
    "### 2. Missing Values"
   ]
  },
  {
   "cell_type": "code",
   "execution_count": null,
   "id": "8d1f8d71-b63c-4d60-afc6-a03da72af1f3",
   "metadata": {},
   "outputs": [],
   "source": [
    "categorical.FirstTimeHomebuyer.value_counts()"
   ]
  },
  {
   "cell_type": "code",
   "execution_count": null,
   "id": "9b1aaf02-978f-4b6a-8db5-c4ce4f3e8b95",
   "metadata": {},
   "outputs": [],
   "source": [
    "# replace X with NA\n",
    "a = categorical['FirstTimeHomebuyer'].values\n",
    "categorical['FirstTimeHomebuyer'] = np.where(a == 'X', np.NaN, a)"
   ]
  },
  {
   "cell_type": "code",
   "execution_count": null,
   "id": "17f0f1f2-61d9-4a5d-88ad-0b9376d3e131",
   "metadata": {},
   "outputs": [],
   "source": [
    "categorical.FirstTimeHomebuyer.value_counts()"
   ]
  },
  {
   "cell_type": "code",
   "execution_count": null,
   "id": "54b5b8b1-825d-4b81-a896-0ea92d3cd5f1",
   "metadata": {},
   "outputs": [],
   "source": [
    "categorical.FirstTimeHomebuyer.isna().sum()"
   ]
  },
  {
   "cell_type": "code",
   "execution_count": null,
   "id": "e23a2c16-7e9f-4084-821b-c3e9bc5614c2",
   "metadata": {},
   "outputs": [],
   "source": [
    "categorical.MSA.value_counts()"
   ]
  },
  {
   "cell_type": "code",
   "execution_count": null,
   "id": "34d932a2-d91d-4e57-a3c8-ac6f6d72aecb",
   "metadata": {},
   "outputs": [],
   "source": [
    "categorical['MSA'] = categorical['MSA'].replace('X    ', 'X')"
   ]
  },
  {
   "cell_type": "code",
   "execution_count": null,
   "id": "1c3d5faa-eba5-4f15-a50f-b45fce067765",
   "metadata": {},
   "outputs": [],
   "source": [
    "# replace X with NA\n",
    "a = categorical['MSA'].values\n",
    "categorical['MSA'] = np.where(a == 'X', np.NaN, a)"
   ]
  },
  {
   "cell_type": "code",
   "execution_count": null,
   "id": "60550495-fd91-4cec-8524-69e416ca1a18",
   "metadata": {},
   "outputs": [],
   "source": [
    "categorical['MSA'].value_counts()"
   ]
  },
  {
   "cell_type": "code",
   "execution_count": null,
   "id": "870791bf-cce0-410e-8371-a68d07f3942e",
   "metadata": {},
   "outputs": [],
   "source": [
    "def replace_X_with_NAN(df):\n",
    "    columns = df.select_dtypes(include=['object']).columns\n",
    "    for column in columns:\n",
    "        df.loc[df[column].str.strip() == 'X', column] = np.nan\n",
    "    return df"
   ]
  },
  {
   "cell_type": "code",
   "execution_count": null,
   "id": "e553a948-555b-47ae-8cb9-cf996ab4034d",
   "metadata": {},
   "outputs": [],
   "source": [
    "categorical = replace_X_with_NAN(categorical)"
   ]
  },
  {
   "cell_type": "code",
   "execution_count": null,
   "id": "e1182bd4-6aae-4a3d-89e3-b75449d66213",
   "metadata": {},
   "outputs": [],
   "source": [
    "categorical['MSA'].value_counts()"
   ]
  },
  {
   "cell_type": "code",
   "execution_count": null,
   "id": "e94cb39d-ed73-446d-b39a-7ae689c099ca",
   "metadata": {},
   "outputs": [],
   "source": [
    "def print_value_counts(data_frame):\n",
    "    for column in data_frame.columns:\n",
    "        print(f\"Column: {column}\")\n",
    "        print(data_frame[column].value_counts())\n",
    "        print(\"#\" * 50)"
   ]
  },
  {
   "cell_type": "code",
   "execution_count": null,
   "id": "53005266-059c-4268-aa1d-d5cbbb263a87",
   "metadata": {
    "tags": []
   },
   "outputs": [],
   "source": [
    "print_value_counts(categorical)"
   ]
  },
  {
   "cell_type": "code",
   "execution_count": null,
   "id": "0ac5670a-ede7-4596-a184-09574aafc815",
   "metadata": {},
   "outputs": [],
   "source": [
    "categorical.isna().sum()"
   ]
  },
  {
   "cell_type": "code",
   "execution_count": null,
   "id": "77c6324d-0211-485f-8f5f-aa9cdc90f7e5",
   "metadata": {},
   "outputs": [],
   "source": [
    "numerical.isna().sum()"
   ]
  },
  {
   "cell_type": "code",
   "execution_count": null,
   "id": "8b8b9bd4-94c4-4cde-89d7-1c7988b895b0",
   "metadata": {},
   "outputs": [],
   "source": [
    "loan_export_copy = replace_X_with_NAN(loan_export_copy)"
   ]
  },
  {
   "cell_type": "code",
   "execution_count": null,
   "id": "11ed3668-b430-40e4-9ffb-348a07c923c8",
   "metadata": {},
   "outputs": [],
   "source": [
    "loan_export_copy.isna().sum()"
   ]
  },
  {
   "cell_type": "code",
   "execution_count": null,
   "id": "c9af53b2-82c8-4ac2-8097-87d8c7fa7c2e",
   "metadata": {},
   "outputs": [],
   "source": [
    "columns_with_na = ['MSA', 'FirstTimeHomebuyer', 'PropertyType', 'NumBorrowers', 'PostalCode']"
   ]
  },
  {
   "cell_type": "code",
   "execution_count": null,
   "id": "d9c9e77a-1281-4cf2-9641-83c20ee5b2e6",
   "metadata": {},
   "outputs": [],
   "source": [
    "print_value_counts(loan_export_copy[columns_with_na])"
   ]
  },
  {
   "cell_type": "code",
   "execution_count": null,
   "id": "484a72a4-8f3c-4121-80c9-eefe98fed8b1",
   "metadata": {
    "tags": []
   },
   "outputs": [],
   "source": [
    "create_bar_plots(loan_export_copy[columns_with_na])"
   ]
  },
  {
   "cell_type": "code",
   "execution_count": null,
   "id": "dd17ef83-ec80-4133-a1ab-9abf685d5c19",
   "metadata": {},
   "outputs": [],
   "source": [
    "def preprocess_loan_export(data_frame):\n",
    "    data_frame['FirstTimeHomebuyer'].fillna('N', inplace=True)\n",
    "    data_frame['PropertyType'].fillna('Not Available', inplace=True)\n",
    "    data_frame['NumBorrowers'].fillna('Not Available', inplace=True)\n",
    "    data_frame['MSA'].fillna(0, inplace=True)\n",
    "    data_frame.dropna(subset=['PostalCode'], inplace=True)\n",
    "    return data_frame"
   ]
  },
  {
   "cell_type": "code",
   "execution_count": null,
   "id": "4ced18cc-87f7-4bdd-8ffc-10344dfca4b7",
   "metadata": {},
   "outputs": [],
   "source": [
    "loan_export_copy = preprocess_loan_export(loan_export_copy)"
   ]
  },
  {
   "cell_type": "code",
   "execution_count": null,
   "id": "676db451-e6be-4b4f-bee3-1133b8b6f1cc",
   "metadata": {},
   "outputs": [],
   "source": [
    "loan_export_copy.info()"
   ]
  },
  {
   "cell_type": "code",
   "execution_count": null,
   "id": "3f4f9dbd-1b39-4f10-9a5d-9357a14d473f",
   "metadata": {},
   "outputs": [],
   "source": [
    "loan_export_copy.isna().sum()"
   ]
  },
  {
   "cell_type": "markdown",
   "id": "7aadb4bb-796f-4f68-b11b-cd6df9e1bae4",
   "metadata": {},
   "source": [
    "### 3. Dealing With Categorical"
   ]
  },
  {
   "cell_type": "code",
   "execution_count": null,
   "id": "d0baa24b-529a-4720-aaa5-7bdde26abd97",
   "metadata": {},
   "outputs": [],
   "source": [
    "cat = loan_export_copy.select_dtypes(include=['object'])"
   ]
  },
  {
   "cell_type": "code",
   "execution_count": null,
   "id": "15ff23c1-a15e-4f4b-8c31-c8fe11ab05b5",
   "metadata": {},
   "outputs": [],
   "source": [
    "cat"
   ]
  },
  {
   "cell_type": "code",
   "execution_count": null,
   "id": "133fedf3-9f31-48fb-afda-8c386b952f4c",
   "metadata": {},
   "outputs": [],
   "source": [
    "to_integer = 'MSA', 'PostalCode', 'NumBorrowers'"
   ]
  },
  {
   "cell_type": "code",
   "execution_count": null,
   "id": "54fd0841-29b8-48a1-b014-83ba860a516b",
   "metadata": {},
   "outputs": [],
   "source": [
    "def convert_columns_to_integer(data_frame, columns):\n",
    "    for column in columns:\n",
    "        data_frame[column] = pd.to_numeric(data_frame[column], errors='coerce', downcast='integer')\n",
    "    return data_frame"
   ]
  },
  {
   "cell_type": "code",
   "execution_count": null,
   "id": "2353af03-e42b-4eb3-8801-7d30fe97f5e6",
   "metadata": {},
   "outputs": [],
   "source": [
    "loan_export_copy = convert_columns_to_integer(loan_export_copy, to_integer)"
   ]
  },
  {
   "cell_type": "code",
   "execution_count": null,
   "id": "f4e24ce7-dac3-40d7-9b0b-e15f094ec3fd",
   "metadata": {},
   "outputs": [],
   "source": [
    "loan_export_copy.info()"
   ]
  },
  {
   "cell_type": "code",
   "execution_count": null,
   "id": "d9ff111d-c6f0-4406-9878-0391860460f5",
   "metadata": {},
   "outputs": [],
   "source": [
    "one_hot_encoding = ['FirstTimeHomebuyer', 'Occupancy', 'Channel', 'PropertyType', 'LoanPurpose', 'NumBorrowers']"
   ]
  },
  {
   "cell_type": "code",
   "execution_count": null,
   "id": "dd931056-5cfe-46ed-9acc-fe3f272b9b9a",
   "metadata": {},
   "outputs": [],
   "source": [
    "def one_hot_encode_columns(data_frame, columns):\n",
    "    encoded_df = pd.get_dummies(data_frame, columns=columns)\n",
    "    return encoded_df"
   ]
  },
  {
   "cell_type": "code",
   "execution_count": null,
   "id": "3e589218-77ae-4976-a989-f451ab351b34",
   "metadata": {},
   "outputs": [],
   "source": [
    "loan_export_copy = one_hot_encode_columns(loan_export_copy, one_hot_encoding)"
   ]
  },
  {
   "cell_type": "code",
   "execution_count": null,
   "id": "53ad84db-9ca8-401e-8e2f-274d5f1dd8df",
   "metadata": {},
   "outputs": [],
   "source": [
    "loan_export_copy.info()"
   ]
  },
  {
   "cell_type": "markdown",
   "id": "4d422415-b342-4983-b78a-53607015a68e",
   "metadata": {},
   "source": [
    "### 4. Preparing Data for Models"
   ]
  },
  {
   "cell_type": "code",
   "execution_count": null,
   "id": "f808beaa-01c5-4733-9c58-1daf20b4c7dc",
   "metadata": {
    "tags": []
   },
   "outputs": [],
   "source": [
    "features, y = loan_export_copy.drop(['EverDelinquent'], axis=1), loan_export_copy.EverDelinquent.values"
   ]
  },
  {
   "cell_type": "code",
   "execution_count": null,
   "id": "13a4a0ab-3354-4f95-b56c-867dfdf0b294",
   "metadata": {},
   "outputs": [],
   "source": [
    "scaler = StandardScaler()\n",
    "features = scaler.fit_transform(features)"
   ]
  },
  {
   "cell_type": "markdown",
   "id": "1aa0029d-43ad-4765-92b8-b99ee75cfbb0",
   "metadata": {},
   "source": [
    "# 🤖 Modeling"
   ]
  },
  {
   "cell_type": "code",
   "execution_count": null,
   "id": "e75b1894-c8e3-4870-a12a-cb356a1bd2cc",
   "metadata": {},
   "outputs": [],
   "source": [
    "# Helper Functions\n",
    "def plot_roc_curve(y_true, y_pred_probs):\n",
    "    fpr, tpr, thresholds = roc_curve(y_true, y_pred_probs)\n",
    "    roc_auc = auc(fpr, tpr)\n",
    "    \n",
    "    plt.figure()\n",
    "    plt.plot(fpr, tpr, color='darkorange', lw=2, label='ROC curve (area = %0.2f)' % roc_auc)\n",
    "    plt.plot([0, 1], [0, 1], color='navy', lw=2, linestyle='--')\n",
    "    plt.xlim([0.0, 1.0])\n",
    "    plt.ylim([0.0, 1.05])\n",
    "    plt.xlabel('False Positive Rate')\n",
    "    plt.ylabel('True Positive Rate')\n",
    "    plt.title('Receiver Operating Characteristic (ROC) Curve')\n",
    "    plt.legend(loc=\"lower right\")\n",
    "    plt.show()\n",
    "\n",
    "def plot_learning_curve(model, X, y, cv, check_points):\n",
    "    train_sizes, train_scores, test_scores = learning_curve(\n",
    "        model, X, y, cv=cv, scoring='neg_mean_squared_error', train_sizes=np.linspace(0.1, 1.0, check_points)\n",
    "    )\n",
    "    \n",
    "    train_errors = -train_scores.mean(axis=1)\n",
    "    test_errors = -test_scores.mean(axis=1)\n",
    "    \n",
    "    plt.figure()\n",
    "    plt.plot(train_sizes, train_errors, 'o-', color='r', label='Training error')\n",
    "    plt.plot(train_sizes, test_errors, 'o-', color='g', label='Validation error')\n",
    "    plt.xlabel('Training Examples')\n",
    "    plt.ylabel('Mean Squared Error')\n",
    "    plt.title('Learning Curve')\n",
    "    plt.legend(loc='best')\n",
    "    plt.show()\n",
    "\n",
    "def plot_confusion_matrix(y_true, y_pred):\n",
    "    classes = ['Class 0', 'Class 1']  # Replace with class labels\n",
    "    cm = confusion_matrix(y_true, y_pred)\n",
    "    plt.figure(figsize=(8, 6))\n",
    "    sns.heatmap(cm, annot=True, fmt='d', cmap='Blues', xticklabels=classes, yticklabels=classes)\n",
    "    plt.title('Confusion Matrix')\n",
    "    plt.xlabel('Predicted')\n",
    "    plt.ylabel('True')\n",
    "    plt.show()\n",
    "    \n",
    "def plot_train_val_tradeoff(y_train_true, y_train_pred, y_val_true, y_val_pred):\n",
    "    train_errors = mean_squared_error(y_train_true, y_train_pred)\n",
    "    val_errors = mean_squared_error(y_val_true, y_val_pred)\n",
    "    \n",
    "    plt.figure(figsize=(10, 5))\n",
    "    \n",
    "    # Plotting Mean Squared Error (MSE)\n",
    "    plt.subplot(1, 2, 1)\n",
    "    plt.plot(train_errors, label='Training Error', marker='o')\n",
    "    plt.plot(val_errors, label='Validation Error', marker='o')\n",
    "    plt.xlabel('Iterations')\n",
    "    plt.ylabel('Mean Squared Error')\n",
    "    plt.title('Training vs. Validation Error')\n",
    "    plt.legend()\n",
    "    \n",
    "    # Plotting Loss (using the same errors as losses for illustration purposes)\n",
    "    plt.subplot(1, 2, 2)\n",
    "    plt.plot(train_errors, label='Training Loss', marker='o')\n",
    "    plt.plot(val_errors, label='Validation Loss', marker='o')\n",
    "    plt.xlabel('Iterations')\n",
    "    plt.ylabel('Loss')\n",
    "    plt.title('Training vs. Validation Loss')\n",
    "    plt.legend()\n",
    "    \n",
    "    plt.tight_layout()\n",
    "    plt.show()\n",
    "\n",
    "\n",
    "def save_model_to_h5(model, filename):\n",
    "    joblib.dump(model, filename)\n"
   ]
  },
  {
   "cell_type": "markdown",
   "id": "136ffec7-fa08-4457-a969-1a8c9564ed39",
   "metadata": {},
   "source": [
    "### 1. Logistic Regression"
   ]
  },
  {
   "cell_type": "markdown",
   "id": "a293af82-6bc4-4f03-8eae-ce150ff7f230",
   "metadata": {},
   "source": [
    "##### a. Split data and make baseline"
   ]
  },
  {
   "cell_type": "code",
   "execution_count": null,
   "id": "cb91040a-532f-4403-be92-2435398b1d01",
   "metadata": {},
   "outputs": [],
   "source": [
    "X_train, X_temp, y_train, y_temp = train_test_split(features, y, test_size=0.3, random_state=42, shuffle=True)\n",
    "X_val, X_test, y_val, y_test = train_test_split(X_temp, y_temp, test_size=0.5, random_state=42, shuffle=True)"
   ]
  },
  {
   "cell_type": "code",
   "execution_count": null,
   "id": "fab7deb1-729f-453f-b919-c81d86611ab1",
   "metadata": {},
   "outputs": [],
   "source": [
    "LR_model = LogisticRegression(penalty='none', max_iter=1000, verbose=1)  # No regularization\n",
    "LR_model.fit(X_train, y_train)"
   ]
  },
  {
   "cell_type": "code",
   "execution_count": null,
   "id": "57d83048-54fc-4f95-8259-34bcfc6054a8",
   "metadata": {},
   "outputs": [],
   "source": [
    "# evaluate on validation set\n",
    "y_val_pred = LR_model.predict(X_val)\n",
    "val_accuracy = accuracy_score(y_val, y_val_pred)\n",
    "print(\"Validation Accuracy:\", val_accuracy)\n",
    "\n",
    "# evaluate on test set\n",
    "y_test_pred = LR_model.predict(X_test)\n",
    "test_accuracy = accuracy_score(y_test, y_test_pred)\n",
    "print(\"Test Accuracy:\", test_accuracy)"
   ]
  },
  {
   "cell_type": "markdown",
   "id": "65f3b2c6-758e-435f-b279-d61334248269",
   "metadata": {},
   "source": [
    "##### b. Display the baseline performance"
   ]
  },
  {
   "cell_type": "code",
   "execution_count": null,
   "id": "6c18372a-e224-4fad-96b0-1af018a71d74",
   "metadata": {},
   "outputs": [],
   "source": [
    "y_train_pred_probs = LR_model.predict_proba(X_train)[:, 1]\n",
    "y_val_pred_probs = LR_model.predict_proba(X_val)[:, 1]\n",
    "y_train_pred = LR_model.predict(X_train)\n",
    "y_val_pred = LR_model.predict(X_val)"
   ]
  },
  {
   "cell_type": "code",
   "execution_count": null,
   "id": "958cf50f-44f2-44dd-9554-c186bb9fbd60",
   "metadata": {},
   "outputs": [],
   "source": [
    "plot_roc_curve(y_train, y_train_pred_probs)"
   ]
  },
  {
   "cell_type": "code",
   "execution_count": null,
   "id": "16cc41db-2b19-4789-9f7e-f386cf35514f",
   "metadata": {},
   "outputs": [],
   "source": [
    "plot_learning_curve(LR_model, X_train, y_train, 5, 10)"
   ]
  },
  {
   "cell_type": "code",
   "execution_count": null,
   "id": "24134b04-5793-4b41-af99-9ddde6b4a431",
   "metadata": {},
   "outputs": [],
   "source": [
    "plot_confusion_matrix(y_train, y_train_pred)"
   ]
  },
  {
   "cell_type": "code",
   "execution_count": null,
   "id": "02ac4b2e-4d1d-414a-8007-5a2b17c4ea2a",
   "metadata": {},
   "outputs": [],
   "source": [
    "plot_confusion_matrix(y_val, y_val_pred)"
   ]
  },
  {
   "cell_type": "markdown",
   "id": "e491ddce-93f8-4351-9398-39c17b461d76",
   "metadata": {},
   "source": [
    "##### c. Search for the best fit line & Regularized the model"
   ]
  },
  {
   "cell_type": "code",
   "execution_count": null,
   "id": "b3ffe005-efee-42d7-b88b-38b3abd553b0",
   "metadata": {
    "tags": []
   },
   "outputs": [],
   "source": [
    "param_grid = {\n",
    "    'C': [0.01, 0.1, 1, 10],\n",
    "    'penalty': ['l1', 'l2'],\n",
    "}\n",
    "LR_model = LogisticRegression(max_iter=1000, verbose=1)\n",
    "grid_search_LR = GridSearchCV(LR_model, param_grid, cv=5, scoring='accuracy')\n",
    "grid_search_LR.fit(X_train, y_train)"
   ]
  },
  {
   "cell_type": "code",
   "execution_count": null,
   "id": "1961dc73-1dc2-43c8-86b5-b6871207e6ea",
   "metadata": {},
   "outputs": [],
   "source": [
    "LR_best_model = grid_search_LR.best_estimator_\n",
    "y_val_pred = LR_best_model.predict(X_val)\n",
    "val_accuracy = accuracy_score(y_val, y_val_pred)\n",
    "print(\"Validation Accuracy:\", val_accuracy)\n",
    "print(\"Best Hyperparameters:\", grid_search_LR.best_params_)"
   ]
  },
  {
   "cell_type": "code",
   "execution_count": null,
   "id": "6a47988e-863b-4c6f-b9bd-62b04b2f7dd8",
   "metadata": {},
   "outputs": [],
   "source": [
    "y_test_pred = LR_best_model.predict(X_test)\n",
    "test_accuracy_LR = accuracy_score(y_test, y_test_pred)\n",
    "classification_rep = classification_report(y_test, y_test_pred)\n",
    "\n",
    "print(\"Test Accuracy:\", test_accuracy)\n",
    "print(\"Classification Report:\\n\", classification_rep)"
   ]
  },
  {
   "cell_type": "markdown",
   "id": "34428594-da59-4736-bad6-561148779038",
   "metadata": {},
   "source": [
    "##### d. Select the final model"
   ]
  },
  {
   "cell_type": "code",
   "execution_count": null,
   "id": "12d10444-f5cb-4ebe-80bd-cf4ce40b3169",
   "metadata": {},
   "outputs": [],
   "source": [
    "final_model_LR = grid_search_LR.best_estimator_"
   ]
  },
  {
   "cell_type": "code",
   "execution_count": null,
   "id": "3e89fb80-c89f-4432-9d8f-d2008018f128",
   "metadata": {},
   "outputs": [],
   "source": [
    "# save the model\n",
    "save_model_to_h5(final_model_LR, 'final_logistic_model.h5')"
   ]
  },
  {
   "cell_type": "markdown",
   "id": "e0f2851e-129a-4d3c-9c8c-079b66d770da",
   "metadata": {
    "tags": []
   },
   "source": [
    "### 2. Support Vector Machine"
   ]
  },
  {
   "cell_type": "markdown",
   "id": "16e38ce6-3ff0-40bc-b058-f3d92933c522",
   "metadata": {},
   "source": [
    "##### a. Split data and make baseline"
   ]
  },
  {
   "cell_type": "code",
   "execution_count": null,
   "id": "3c722851-cc7f-4652-8e70-f4a6e4b4c218",
   "metadata": {},
   "outputs": [],
   "source": [
    "SVC_model = SVC(verbose=2, probability=True, class_weight='balanced')\n",
    "SVC_model.fit(X_train[:20000], y_train[:20000])\n",
    "\n",
    "y_train_pred = SVC_model.predict(X_train[:20000])\n",
    "y_val_pred = SVC_model.predict(X_val)"
   ]
  },
  {
   "cell_type": "code",
   "execution_count": null,
   "id": "7373d973-008c-43a5-bb31-973e0d5ca2d8",
   "metadata": {},
   "outputs": [],
   "source": [
    "train_accuracy = accuracy_score(y_train[:20000], y_train_pred)\n",
    "val_accuracy = accuracy_score(y_val, y_val_pred)\n",
    "\n",
    "print(\"Training Accuracy:\", train_accuracy)\n",
    "print(\"Validation Accuracy:\", val_accuracy)"
   ]
  },
  {
   "cell_type": "markdown",
   "id": "58e62869-fbc9-4bf3-88c3-323c05189d71",
   "metadata": {},
   "source": [
    "##### b. Display the baseline performance"
   ]
  },
  {
   "cell_type": "code",
   "execution_count": null,
   "id": "50c82fbe-2a89-42eb-9d06-132a9d328f64",
   "metadata": {},
   "outputs": [],
   "source": [
    "y_train_pred_probs = SVC_model.predict_proba(X_train[:20000])[:, 1]\n",
    "y_val_pred_probs = SVC_model.predict_proba(X_val)[:, 1]\n",
    "y_train_pred = SVC_model.predict(X_train[:20000])\n",
    "y_val_pred = SVC_model.predict(X_val)"
   ]
  },
  {
   "cell_type": "code",
   "execution_count": null,
   "id": "e98c9613-c358-4293-a727-56c5ae57a99e",
   "metadata": {},
   "outputs": [],
   "source": [
    "plot_roc_curve(y_train[:20000], y_train_pred_probs)"
   ]
  },
  {
   "cell_type": "code",
   "execution_count": null,
   "id": "fa2ff8d4-b835-492e-a6ba-70ae865e6485",
   "metadata": {},
   "outputs": [],
   "source": [
    "plot_learning_curve(SVC_model, X_train[:20000], y_train[:20000], 3, 5)"
   ]
  },
  {
   "cell_type": "code",
   "execution_count": null,
   "id": "27da6afd-7308-4834-8b24-a849d210cfe7",
   "metadata": {},
   "outputs": [],
   "source": [
    "plot_confusion_matrix(y_train[:20000], y_train_pred)"
   ]
  },
  {
   "cell_type": "code",
   "execution_count": null,
   "id": "46e56be4-4577-4dad-b732-d4af565fd688",
   "metadata": {},
   "outputs": [],
   "source": [
    "plot_confusion_matrix(y_val, y_val_pred)"
   ]
  },
  {
   "cell_type": "markdown",
   "id": "bbb7c8c7",
   "metadata": {},
   "source": [
    "As we see the prediction skewed to one of them, and we should set weights to each class because the classes are imbalanced"
   ]
  },
  {
   "cell_type": "markdown",
   "id": "17093c25-c618-4595-aa58-c74911baabfe",
   "metadata": {},
   "source": [
    "##### c. Search for the best fit line & Regularized the model"
   ]
  },
  {
   "cell_type": "code",
   "execution_count": null,
   "id": "4f625cd0-f435-4d6c-907a-7c2984805101",
   "metadata": {},
   "outputs": [],
   "source": [
    "pca = PCA()\n",
    "pca.fit(X_val)\n",
    "# Plot the explained variance ratio\n",
    "explained_variance_ratio = pca.explained_variance_ratio_\n",
    "cumulative_explained_variance_ratio = np.cumsum(explained_variance_ratio)"
   ]
  },
  {
   "cell_type": "code",
   "execution_count": null,
   "id": "ed6ecb8a-6789-4e17-84b0-399875069642",
   "metadata": {},
   "outputs": [],
   "source": [
    "plt.figure(figsize=(10, 6))\n",
    "plt.plot(cumulative_explained_variance_ratio, marker='o')\n",
    "plt.xlabel('Number of Components')\n",
    "plt.ylabel('Cumulative Explained Variance Ratio')\n",
    "plt.title('Explained Variance Ratio vs. Number of Components')\n",
    "plt.grid()\n",
    "plt.show()"
   ]
  },
  {
   "cell_type": "code",
   "execution_count": null,
   "id": "633247f0-6596-4dc8-9b2d-435456324c14",
   "metadata": {},
   "outputs": [],
   "source": [
    "# n_components = 22 # Choose the number of principal components\n",
    "# pca = PCA(n_components=n_components)\n",
    "# X_pca = pca.fit_transform(X_val)"
   ]
  },
  {
   "cell_type": "code",
   "execution_count": null,
   "id": "2b0636ea-2f77-4352-8ff4-bd42fa27a009",
   "metadata": {},
   "outputs": [],
   "source": [
    "param_grid = {\n",
    "    'C': [0.1, 10],\n",
    "    'kernel': ['poly', 'rbf'],\n",
    "}\n",
    "f1_scorer = make_scorer(f1_score)"
   ]
  },
  {
   "cell_type": "code",
   "execution_count": null,
   "id": "9ebc631c-d8d0-4028-a8f9-f16f5aff11bc",
   "metadata": {},
   "outputs": [],
   "source": [
    "grid_search_SVC = GridSearchCV(\n",
    "    SVC_model,\n",
    "    param_grid=param_grid,\n",
    "    scoring=f1_scorer,\n",
    "    cv=3, \n",
    "    verbose=2,\n",
    ")\n",
    "grid_search_SVC.fit(X_val, y_val)"
   ]
  },
  {
   "cell_type": "code",
   "execution_count": null,
   "id": "cc369f47-dbb3-4577-806f-31f21ff223c8",
   "metadata": {},
   "outputs": [],
   "source": [
    "SVC_best_model = grid_search_SVC.best_estimator_\n",
    "y_train_pred = SVC_best_model.predict(X_train[20000:40000])\n",
    "val_accuracy = accuracy_score(y_train[20000:40000], y_train_pred)\n",
    "print(\"Validation Accuracy:\", val_accuracy)\n",
    "print(\"Best Hyperparameters:\", grid_search_SVC.best_params_)"
   ]
  },
  {
   "cell_type": "code",
   "execution_count": null,
   "id": "fcf43e46-d5c0-444f-b569-375c09d41d69",
   "metadata": {},
   "outputs": [],
   "source": [
    "y_test_pred = SVC_best_model.predict(X_test)\n",
    "test_accuracy_SVC = accuracy_score(y_test, y_test_pred)\n",
    "classification_rep = classification_report(y_test, y_test_pred)\n",
    "\n",
    "print(\"Test Accuracy:\", test_accuracy)\n",
    "print(\"Classification Report:\\n\", classification_rep)"
   ]
  },
  {
   "cell_type": "markdown",
   "id": "32245a23-ed2e-4af2-a817-cd7d8305e6d0",
   "metadata": {},
   "source": [
    "##### d. Select the final model"
   ]
  },
  {
   "cell_type": "code",
   "execution_count": null,
   "id": "37887e2e-5cea-4e08-8db7-6bd77093f4e2",
   "metadata": {},
   "outputs": [],
   "source": [
    "final_model_SVC = grid_search_SVC.best_estimator_"
   ]
  },
  {
   "cell_type": "code",
   "execution_count": null,
   "id": "c0796fd0-4ac0-4d62-b8ed-685ae7745f24",
   "metadata": {},
   "outputs": [],
   "source": [
    "# save the model\n",
    "save_model_to_h5(final_model_SVC, 'final_SVC_model.h5')"
   ]
  },
  {
   "cell_type": "markdown",
   "id": "72b5ef86-2a53-4662-9cdf-56774ace0168",
   "metadata": {},
   "source": [
    "### 3. Gaussian Discriminant Analysis"
   ]
  },
  {
   "cell_type": "markdown",
   "id": "22b9f61e-738d-4566-b5b7-4f185bdb6425",
   "metadata": {},
   "source": [
    "##### a. Split data and make baseline"
   ]
  },
  {
   "cell_type": "code",
   "execution_count": null,
   "id": "ca6e92fd-842c-475b-8e60-d278ede75192",
   "metadata": {},
   "outputs": [],
   "source": [
    "GDA_model = LinearDiscriminantAnalysis()\n",
    "GDA_model.fit(X_train, y_train)\n",
    "y_train_pred = GDA_model.predict(X_train)\n",
    "y_val_pred = GDA_model.predict(X_val)"
   ]
  },
  {
   "cell_type": "code",
   "execution_count": null,
   "id": "b712bada-3a40-4bf6-99c2-7191ed28f764",
   "metadata": {},
   "outputs": [],
   "source": [
    "train_accuracy = accuracy_score(y_train, y_train_pred)\n",
    "val_accuracy = accuracy_score(y_val, y_val_pred)\n",
    "\n",
    "print(\"Training Accuracy:\", train_accuracy)\n",
    "print(\"Validation Accuracy:\", val_accuracy)"
   ]
  },
  {
   "cell_type": "markdown",
   "id": "09525e55-6320-4212-9957-4ad26e27a0ce",
   "metadata": {},
   "source": [
    "##### b. Display the baseline performance"
   ]
  },
  {
   "cell_type": "code",
   "execution_count": null,
   "id": "1a6e62e5-9bb4-434d-a646-fb85f4b3b6db",
   "metadata": {},
   "outputs": [],
   "source": [
    "# Assuming you have a trained logistic regression model 'model'\n",
    "y_train_pred_probs = GDA_model.predict_proba(X_train)[:, 1]\n",
    "y_val_pred_probs = GDA_model.predict_proba(X_val)[:, 1]\n",
    "y_train_pred = GDA_model.predict(X_train)\n",
    "y_val_pred = GDA_model.predict(X_val)"
   ]
  },
  {
   "cell_type": "code",
   "execution_count": null,
   "id": "afd05231-a0c3-4694-8ed6-40148a6d51f9",
   "metadata": {},
   "outputs": [],
   "source": [
    "plot_roc_curve(y_train, y_train_pred_probs)"
   ]
  },
  {
   "cell_type": "code",
   "execution_count": null,
   "id": "16aed238-33de-4147-a7e0-bfd6df9cf45e",
   "metadata": {},
   "outputs": [],
   "source": [
    "plot_learning_curve(GDA_model, X_train, y_train, 5, 30)"
   ]
  },
  {
   "cell_type": "code",
   "execution_count": null,
   "id": "a7c2a14e-7ee7-4911-9ffa-29ec5a0465d0",
   "metadata": {},
   "outputs": [],
   "source": [
    "plot_confusion_matrix(y_train, y_train_pred)"
   ]
  },
  {
   "cell_type": "code",
   "execution_count": null,
   "id": "970d390a-f8ed-410e-b5eb-ba1a9b72fecf",
   "metadata": {},
   "outputs": [],
   "source": [
    "plot_confusion_matrix(y_val, y_val_pred)"
   ]
  },
  {
   "cell_type": "markdown",
   "id": "d2118605-baf3-4cf7-af5e-8ef22ca18621",
   "metadata": {},
   "source": [
    "##### c. Search for the best fit line & Regularized the model"
   ]
  },
  {
   "cell_type": "code",
   "execution_count": null,
   "id": "f1d0e53a-30f5-43f7-a583-ed6dd38465b6",
   "metadata": {},
   "outputs": [],
   "source": [
    "# Apply random under-sampling to balance the class distribution\n",
    "rus = RandomUnderSampler(random_state=42)\n",
    "X_resampled, y_resampled = rus.fit_resample(X_train, y_train)"
   ]
  },
  {
   "cell_type": "code",
   "execution_count": null,
   "id": "d3e303e2-33b6-4c03-a639-92f5cf75adbf",
   "metadata": {},
   "outputs": [],
   "source": [
    "param_grid = {\n",
    "    'solver': ['svd', 'lsqr', 'eigen'],\n",
    "    'shrinkage': [None, 'auto', 0.1, 0.5, 0.9],\n",
    "}\n",
    "grid_search_GDA = GridSearchCV(\n",
    "    GDA_model,\n",
    "    param_grid,\n",
    "    cv=5,\n",
    "    scoring='accuracy',\n",
    "    verbose=2,\n",
    ")\n",
    "grid_search_GDA.fit(X_resampled, y_resampled)"
   ]
  },
  {
   "cell_type": "code",
   "execution_count": null,
   "id": "8ae1c589-b9e1-4aa8-88d8-d992c0d24166",
   "metadata": {},
   "outputs": [],
   "source": [
    "GDA_best_model = grid_search_GDA.best_estimator_\n",
    "y_val_pred = GDA_best_model.predict(X_val)\n",
    "val_accuracy = accuracy_score(y_val, y_val_pred)\n",
    "print(\"Validation Accuracy:\", val_accuracy)\n",
    "print(\"Best Hyperparameters:\", grid_search_GDA.best_params_)"
   ]
  },
  {
   "cell_type": "code",
   "execution_count": null,
   "id": "5889577f-56f0-4d95-844b-1f5cfc449c97",
   "metadata": {},
   "outputs": [],
   "source": [
    "y_test_pred = GDA_best_model.predict(X_test)\n",
    "test_accuracy_GDA = accuracy_score(y_test, y_test_pred)\n",
    "classification_rep = classification_report(y_test, y_test_pred)\n",
    "\n",
    "print(\"Test Accuracy:\", test_accuracy)\n",
    "print(\"Classification Report:\\n\", classification_rep)"
   ]
  },
  {
   "cell_type": "markdown",
   "id": "9c524e30-d757-4702-aede-ad897790e3dc",
   "metadata": {},
   "source": [
    "##### d. Select the final model"
   ]
  },
  {
   "cell_type": "code",
   "execution_count": null,
   "id": "d042a908-c246-4407-a738-3b3e1e32d3b9",
   "metadata": {},
   "outputs": [],
   "source": [
    "final_model_GDA = grid_search_GDA.best_estimator_"
   ]
  },
  {
   "cell_type": "code",
   "execution_count": null,
   "id": "987c9a3a-ecb9-4921-813d-e4d1f637014f",
   "metadata": {},
   "outputs": [],
   "source": [
    "save_model_to_h5(final_model_GDA, 'final_GDA_model.h5')"
   ]
  },
  {
   "cell_type": "markdown",
   "id": "66ee1add-9b33-4d09-8c13-6fec43b3f5d1",
   "metadata": {},
   "source": [
    "### 4. Fead-Forward Neural Network"
   ]
  },
  {
   "cell_type": "markdown",
   "id": "94067613-9ae7-4146-9748-0595dbfd1aa7",
   "metadata": {},
   "source": [
    "##### a. Split data and make baseline"
   ]
  },
  {
   "cell_type": "code",
   "execution_count": null,
   "id": "b8cda5fb-2e93-41a4-9455-3a8b637c8d74",
   "metadata": {},
   "outputs": [],
   "source": [
    "n_features = 29\n",
    "NN_model = keras.Sequential([\n",
    "    keras.layers.Dense(512, activation='relu', input_shape=(n_features,)),\n",
    "    keras.layers.Dense(256, activation='relu'),\n",
    "    keras.layers.Dense(128, activation='relu'),\n",
    "    keras.layers.Dense(64, activation='relu'),\n",
    "    keras.layers.Dense(32, activation='relu'),\n",
    "    keras.layers.Dense(16, activation='relu'),\n",
    "    keras.layers.Dense(1, activation='sigmoid')\n",
    "])\n",
    "NN_model.compile(optimizer='adam', loss='binary_crossentropy', metrics=['accuracy'])\n",
    "history = NN_model.fit(X_train, y_train, epochs=10, batch_size=64, validation_data=(X_val, y_val))"
   ]
  },
  {
   "cell_type": "code",
   "execution_count": null,
   "id": "07215501-f238-4546-b4bd-703910d917db",
   "metadata": {},
   "outputs": [],
   "source": [
    "history.history"
   ]
  },
  {
   "cell_type": "code",
   "execution_count": null,
   "id": "92abd228-9814-42da-8f5c-50ee9cda2b22",
   "metadata": {},
   "outputs": [],
   "source": []
  },
  {
   "cell_type": "code",
   "execution_count": null,
   "id": "3deea750-c2ea-4ecd-8415-47d0e508e18e",
   "metadata": {},
   "outputs": [],
   "source": [
    "# evaluate on validation set\n",
    "print(\"Validation Accuracy:\", np.mean(history.history['val_accuracy']))\n",
    "\n",
    "# evaluate on test set\n",
    "loss, acc = NN_model.evaluate(X_test, y_test)\n",
    "print(\"Test Loss:\", loss)\n",
    "print(\"Test Accuracy:\", acc)"
   ]
  },
  {
   "cell_type": "markdown",
   "id": "c3f499fb-fcbf-403f-af55-002acf108a63",
   "metadata": {},
   "source": [
    "##### b. Display the baseline performance"
   ]
  },
  {
   "cell_type": "code",
   "execution_count": null,
   "id": "ba44df70-b5e5-42b7-b8e6-58aead24b38f",
   "metadata": {},
   "outputs": [],
   "source": [
    "y_train_pred = NN_model.predict_classes(X_train)\n",
    "y_val_pred = NN_model.predict_classes(X_val)"
   ]
  },
  {
   "cell_type": "code",
   "execution_count": null,
   "id": "7b7d0403-80f9-4d02-8549-1bd4ed731f56",
   "metadata": {},
   "outputs": [],
   "source": [
    "y_pred_proba = NN_model.predict_proba(X_train)[:, 0]\n",
    "plot_roc_curve(y_train, y_pred_proba)"
   ]
  },
  {
   "cell_type": "code",
   "execution_count": null,
   "id": "c5ef3167-8e46-4b56-a767-d75505c1f3a3",
   "metadata": {},
   "outputs": [],
   "source": [
    "plot_confusion_matrix(y_train, y_train_pred)"
   ]
  },
  {
   "cell_type": "code",
   "execution_count": null,
   "id": "b409df47-8d2e-4980-bdba-cd2e75149f56",
   "metadata": {},
   "outputs": [],
   "source": [
    "plot_confusion_matrix(y_val, y_val_pred)"
   ]
  },
  {
   "cell_type": "markdown",
   "id": "9ffa90fb-70c3-42d1-9a1e-5bad065d6004",
   "metadata": {},
   "source": [
    "##### c. Search for the best fit line & Regularized the model"
   ]
  },
  {
   "cell_type": "code",
   "execution_count": null,
   "id": "1243cef2-59ee-4d26-93c7-70b5cb69fcaa",
   "metadata": {},
   "outputs": [],
   "source": [
    "n_features = 29\n",
    "\n",
    "# Calculate class weights manually\n",
    "class_counts = np.bincount(y_train)\n",
    "total_samples = class_counts.sum()\n",
    "class_weights = {cls: total_samples / count for cls, count in enumerate(class_counts)}\n",
    "\n",
    "early_stopping = keras.callbacks.EarlyStopping(monitor='val_loss', patience=5, restore_best_weights=True)\n",
    "NN_model = keras.Sequential([\n",
    "    keras.layers.Dense(512, activation='relu', input_shape=(n_features,), kernel_regularizer=keras.regularizers.l2(0.01)),\n",
    "    keras.layers.Dropout(0.5),\n",
    "    keras.layers.Dense(256, activation='relu', kernel_regularizer=keras.regularizers.l2(0.01)),\n",
    "    keras.layers.Dropout(0.5),\n",
    "    keras.layers.Dense(128, activation='relu', kernel_regularizer=keras.regularizers.l2(0.01)),\n",
    "    keras.layers.Dropout(0.5),\n",
    "    keras.layers.Dense(64, activation='relu', kernel_regularizer=keras.regularizers.l2(0.01)),\n",
    "    keras.layers.Dropout(0.5),\n",
    "    keras.layers.Dense(32, activation='relu', kernel_regularizer=keras.regularizers.l2(0.01)),\n",
    "    keras.layers.Dropout(0.5),\n",
    "    keras.layers.Dense(16, activation='relu', kernel_regularizer=keras.regularizers.l2(0.01)),\n",
    "    keras.layers.Dropout(0.5),\n",
    "    keras.layers.Dense(1, activation='sigmoid')\n",
    "])"
   ]
  },
  {
   "cell_type": "code",
   "execution_count": null,
   "id": "77b4f769-7823-4688-93de-827e09c371cb",
   "metadata": {},
   "outputs": [],
   "source": [
    "NN_model.compile(optimizer='adam', loss='binary_crossentropy', metrics=['accuracy'])\n",
    "\n",
    "history = NN_model.fit(X_train, y_train, epochs=50, batch_size=64, validation_data=(X_val, y_val),\n",
    "                       class_weight=class_weights, callbacks=[early_stopping])\n"
   ]
  },
  {
   "cell_type": "code",
   "execution_count": null,
   "id": "c341ee73-955f-407d-aa91-241a7250240d",
   "metadata": {},
   "outputs": [],
   "source": [
    "NN_model.summary()"
   ]
  },
  {
   "cell_type": "code",
   "execution_count": null,
   "id": "93b55862-ea8c-405a-9670-1e3c1ddb4fd9",
   "metadata": {},
   "outputs": [],
   "source": [
    "plt.figure(figsize=(10, 6))\n",
    "plt.plot(history.history['loss'], label='Train Loss')\n",
    "plt.plot(history.history['val_loss'], label='Validation Loss')\n",
    "plt.plot(history.history['accuracy'], label='Train acc')\n",
    "plt.plot(history.history['val_accuracy'], label='Validation acc')\n",
    "plt.title('Training and Validation Loss & Accuracy')\n",
    "plt.xlabel('Epochs')\n",
    "plt.ylabel('Loss & Accuracy')\n",
    "plt.legend()\n",
    "plt.show()"
   ]
  },
  {
   "cell_type": "code",
   "execution_count": null,
   "id": "52ec578d-677e-4514-a31a-51c7012c974f",
   "metadata": {},
   "outputs": [],
   "source": [
    "# Evaluate the model on the test set\n",
    "loss, accuracy = NN_model.evaluate(X_test, y_test)\n",
    "print(\"Test Loss:\", loss)\n",
    "print(\"Test Accuracy:\", accuracy)"
   ]
  },
  {
   "cell_type": "markdown",
   "id": "2202dd6f-5f9c-49f2-b539-154a473b5e0c",
   "metadata": {},
   "source": [
    "##### d. Select the final model"
   ]
  },
  {
   "cell_type": "code",
   "execution_count": null,
   "id": "278aeb20-bade-4de9-9847-3ce7bd0953f8",
   "metadata": {},
   "outputs": [],
   "source": [
    "model_filename = 'NN_model.h5'\n",
    "NN_model.save(model_filename)"
   ]
  },
  {
   "cell_type": "markdown",
   "id": "4aec4c80-baa1-4c7b-8950-3901e25f5383",
   "metadata": {},
   "source": [
    "# 📰 Summary"
   ]
  },
  {
   "cell_type": "code",
   "execution_count": null,
   "id": "6d15d933-9a13-4e95-8ec1-a73f120aa1f3",
   "metadata": {},
   "outputs": [],
   "source": [
    "# Create a DataFrame to store the summary table\n",
    "model_names = ['Logistic Regression', 'Support Vector Machine', 'Gaussian Discriminant Analysis', 'Fead-Forward Neural Network']\n",
    "\n",
    "hyperparameters = [\n",
    "    grid_search_LR.best_params_,\n",
    "    grid_search_SVC.best_params_,\n",
    "    grid_search_GDA.best_params_,\n",
    "    {'n_features': 29,\n",
    "    'l2_regularization_strength': 0.01,\n",
    "    'dropout_rate': 0.5,\n",
    "    'optimizer': 'adam',\n",
    "    'loss_function': 'binary_crossentropy',\n",
    "    'metrics': ['accuracy'],\n",
    "    'epochs': 50,\n",
    "    'batch_size': 64,\n",
    "    'class_weights': class_weights,  # Calculated manually\n",
    "    'early_stopping_patience': 5,\n",
    "    }\n",
    "]\n",
    "test_accuracy = [\n",
    "    test_accuracy_LR * 100,\n",
    "    test_accuracy_SVC * 100,\n",
    "    test_accuracy_GDA * 100,\n",
    "    accuracy * 100\n",
    "]\n",
    "summary_df = pd.DataFrame({\n",
    "    'Model': model_names,\n",
    "    'Test_Accuracy': test_accuracy,\n",
    "    'Hyperparameters': hyperparameters,\n",
    "})\n",
    "\n",
    "display(summary_df)"
   ]
  }
 ],
 "metadata": {
  "kernelspec": {
   "display_name": "Python 3 (ipykernel)",
   "language": "python",
   "name": "python3"
  },
  "language_info": {
   "codemirror_mode": {
    "name": "ipython",
    "version": 3
   },
   "file_extension": ".py",
   "mimetype": "text/x-python",
   "name": "python",
   "nbconvert_exporter": "python",
   "pygments_lexer": "ipython3",
   "version": "3.8.8"
  },
  "toc-autonumbering": false,
  "toc-showcode": false,
  "toc-showmarkdowntxt": false,
  "widgets": {
   "application/vnd.jupyter.widget-state+json": {
    "state": {},
    "version_major": 2,
    "version_minor": 0
   }
  }
 },
 "nbformat": 4,
 "nbformat_minor": 5
}
